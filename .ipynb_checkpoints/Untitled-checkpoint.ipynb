{
 "cells": [
  {
   "cell_type": "code",
   "execution_count": 1,
   "id": "fd5213b5",
   "metadata": {},
   "outputs": [],
   "source": [
    "import turtle "
   ]
  },
  {
   "cell_type": "code",
   "execution_count": 2,
   "id": "cd500d59",
   "metadata": {},
   "outputs": [],
   "source": [
    "screen=turtle.Screen()"
   ]
  },
  {
   "cell_type": "code",
   "execution_count": null,
   "id": "8e03f3b4",
   "metadata": {},
   "outputs": [],
   "source": [
    "import turtle\n",
    "mattron=turtle.Turtle()\n",
    "mattron.pensize(5)\n",
    "mattron.pencolor(\"Blue\")\n",
    "mattron.penup()\n",
    "mattron.goto(0,-200)\n",
    "mattron.pendown()\n",
    "mattron.circle(200)\n",
    "conmat=turtle.Turtle()\n",
    "conmat.fillcolor(\"red\")\n",
    "conmat.penup()\n",
    "conmat.goto(-100,50)\n",
    "conmat.pendown()\n",
    "conmat.begin_fill()\n",
    "conmat.circle(17.5)\n",
    "conmat.end_fill()\n",
    "conmat.penup()\n",
    "conmat.goto(100,50)\n",
    "conmat.pendown()\n",
    "conmat.begin_fill()\n",
    "conmat.circle(17.5)\n",
    "conmat.end_fill()\n",
    "mui=turtle.Turtle()\n",
    "mui.penup()\n",
    "mui.goto(0,50)\n",
    "mui.pendown()\n",
    "mui.circle(-70,steps=3)\n",
    "mieng=turtle.Turtle()\n",
    "mieng.penup()\n",
    "mieng.goto(-100,-70)\n",
    "mieng.pendown()\n",
    "mieng.right(90)\n",
    "mieng.circle(100,180)\n",
    "turtle.done()\n",
    "\n"
   ]
  },
  {
   "cell_type": "code",
   "execution_count": null,
   "id": "22a63ad1",
   "metadata": {},
   "outputs": [],
   "source": []
  }
 ],
 "metadata": {
  "kernelspec": {
   "display_name": "Python 3 (ipykernel)",
   "language": "python",
   "name": "python3"
  },
  "language_info": {
   "codemirror_mode": {
    "name": "ipython",
    "version": 3
   },
   "file_extension": ".py",
   "mimetype": "text/x-python",
   "name": "python",
   "nbconvert_exporter": "python",
   "pygments_lexer": "ipython3",
   "version": "3.9.12"
  }
 },
 "nbformat": 4,
 "nbformat_minor": 5
}
